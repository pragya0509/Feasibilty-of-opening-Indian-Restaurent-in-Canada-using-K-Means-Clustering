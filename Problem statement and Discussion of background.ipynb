{
    "cells": [
        {
            "cell_type": "markdown",
            "metadata": {
                "collapsed": true
            },
            "source": "#Problem statement and discussion of background\n----Considering opening an indian restaurent in Toronto,Canada----\nIf we consider a capital city like Toronto and surrounded by diverse culture regions ,it can be considered a profitable place to open a business.Toronto have diverse culture as well as we know Canada has a huge amount of Indian Population , in which about half of them resides in Toronto,Canada.\n\nWe will analyse the neighbourhood of Toronto to decide for the opening of restaurent. As the profitability of the restaurent depends upon the people and ambience.As the Indian popuulation is quite good in Toronto ,it will be good idea to open a restaurent but profitibilty for the owner is also to be analysed.\n\n------------------------Target Audience----------------------------------\n1.Business personnel who wants to invest or open an Indian restaurant in Toronto. This analysis will be a comprehensive guide to start or expand restaurants targeting the Indian crowd.\n2.Freelancer who loves to have their own restaurant as a side business. This analysis will give an idea, how beneficial it is to open a restaurant and what are the pros and cons of this business.\n3.Indian crowd who wants to find neighborhoods with lots of option for Indian restaurants.\n4.Business Analyst or Data Scientists, who wish to analyze the neighborhoods of Toronto using Exploratory Data Analysis and other statistical & machine learning techniques to obtain all the necessary data, perform some operations on it and, finally be able to tell a story out of it."
        }
    ],
    "metadata": {
        "kernelspec": {
            "display_name": "Python 3.6",
            "language": "python",
            "name": "python3"
        },
        "language_info": {
            "codemirror_mode": {
                "name": "ipython",
                "version": 3
            },
            "file_extension": ".py",
            "mimetype": "text/x-python",
            "name": "python",
            "nbconvert_exporter": "python",
            "pygments_lexer": "ipython3",
            "version": "3.6.9"
        }
    },
    "nbformat": 4,
    "nbformat_minor": 1
}