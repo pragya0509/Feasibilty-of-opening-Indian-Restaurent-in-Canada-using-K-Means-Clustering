{
    "cells": [
        {
            "cell_type": "markdown",
            "metadata": {
                "collapsed": true
            },
            "source": "---------------Data for the Problem Statement-----------\nFor the problem Statement different data sources will be used\n\n1.Data containing the list of all postal codes of Canada. From  the list present on wikipedia we can search for the neighbourhood of Toronto,Canada.\n\n2.We need the location of all the locations thus a dataset containing the longitude and latitude of all th location is also used.\n\nAbove two data sets are combined to get the names and location of all the neighbourhood of Toronto.\n\n3.We will be using the foursquare API to explore all the nearby places for the all the neighbourhood locations of toronto.\n{From this data we will be extracting name,latitude,longitude and category of data.}\n\n4.Fourtly we will be using the dataset of demographics of Toronto so that we can the composition of population and can decide upon the location where most Indians are located."
        }
    ],
    "metadata": {
        "kernelspec": {
            "display_name": "Python 3.6",
            "language": "python",
            "name": "python3"
        },
        "language_info": {
            "codemirror_mode": {
                "name": "ipython",
                "version": 3
            },
            "file_extension": ".py",
            "mimetype": "text/x-python",
            "name": "python",
            "nbconvert_exporter": "python",
            "pygments_lexer": "ipython3",
            "version": "3.6.9"
        }
    },
    "nbformat": 4,
    "nbformat_minor": 1
}